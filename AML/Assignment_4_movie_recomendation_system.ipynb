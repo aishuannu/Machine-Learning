{
 "cells": [
  {
   "cell_type": "markdown",
   "metadata": {},
   "source": [
    "# Importing required module and data"
   ]
  },
  {
   "cell_type": "code",
   "execution_count": 1,
   "metadata": {},
   "outputs": [],
   "source": [
    "import pandas as pd\n",
    "import numpy as np\n",
    "import requests\n",
    "import math\n",
    "import sys\n",
    "import io"
   ]
  },
  {
   "cell_type": "code",
   "execution_count": 2,
   "metadata": {},
   "outputs": [],
   "source": [
    "data=pd.read_csv(\"http://files.grouplens.org/datasets/movielens/ml-100k/u.data\",delimiter='\\t',header=None)"
   ]
  },
  {
   "cell_type": "code",
   "execution_count": 3,
   "metadata": {},
   "outputs": [],
   "source": [
    "df=pd.DataFrame(data)"
   ]
  },
  {
   "cell_type": "code",
   "execution_count": 4,
   "metadata": {},
   "outputs": [
    {
     "data": {
      "text/html": [
       "<div>\n",
       "<style scoped>\n",
       "    .dataframe tbody tr th:only-of-type {\n",
       "        vertical-align: middle;\n",
       "    }\n",
       "\n",
       "    .dataframe tbody tr th {\n",
       "        vertical-align: top;\n",
       "    }\n",
       "\n",
       "    .dataframe thead th {\n",
       "        text-align: right;\n",
       "    }\n",
       "</style>\n",
       "<table border=\"1\" class=\"dataframe\">\n",
       "  <thead>\n",
       "    <tr style=\"text-align: right;\">\n",
       "      <th></th>\n",
       "      <th>0</th>\n",
       "      <th>1</th>\n",
       "      <th>2</th>\n",
       "      <th>3</th>\n",
       "    </tr>\n",
       "  </thead>\n",
       "  <tbody>\n",
       "    <tr>\n",
       "      <th>0</th>\n",
       "      <td>196</td>\n",
       "      <td>242</td>\n",
       "      <td>3</td>\n",
       "      <td>881250949</td>\n",
       "    </tr>\n",
       "    <tr>\n",
       "      <th>1</th>\n",
       "      <td>186</td>\n",
       "      <td>302</td>\n",
       "      <td>3</td>\n",
       "      <td>891717742</td>\n",
       "    </tr>\n",
       "    <tr>\n",
       "      <th>2</th>\n",
       "      <td>22</td>\n",
       "      <td>377</td>\n",
       "      <td>1</td>\n",
       "      <td>878887116</td>\n",
       "    </tr>\n",
       "    <tr>\n",
       "      <th>3</th>\n",
       "      <td>244</td>\n",
       "      <td>51</td>\n",
       "      <td>2</td>\n",
       "      <td>880606923</td>\n",
       "    </tr>\n",
       "    <tr>\n",
       "      <th>4</th>\n",
       "      <td>166</td>\n",
       "      <td>346</td>\n",
       "      <td>1</td>\n",
       "      <td>886397596</td>\n",
       "    </tr>\n",
       "  </tbody>\n",
       "</table>\n",
       "</div>"
      ],
      "text/plain": [
       "     0    1  2          3\n",
       "0  196  242  3  881250949\n",
       "1  186  302  3  891717742\n",
       "2   22  377  1  878887116\n",
       "3  244   51  2  880606923\n",
       "4  166  346  1  886397596"
      ]
     },
     "execution_count": 4,
     "metadata": {},
     "output_type": "execute_result"
    }
   ],
   "source": [
    "df.head()"
   ]
  },
  {
   "cell_type": "markdown",
   "metadata": {},
   "source": [
    "# Preprosessing of the data"
   ]
  },
  {
   "cell_type": "code",
   "execution_count": 5,
   "metadata": {},
   "outputs": [],
   "source": [
    "df.columns=[\"UserID\",\"MovieID\",\"rating\",\"timestamp\"]"
   ]
  },
  {
   "cell_type": "code",
   "execution_count": 6,
   "metadata": {},
   "outputs": [],
   "source": [
    "df = df.sort_values(by=\"UserID\")"
   ]
  },
  {
   "cell_type": "code",
   "execution_count": 7,
   "metadata": {},
   "outputs": [
    {
     "data": {
      "text/html": [
       "<div>\n",
       "<style scoped>\n",
       "    .dataframe tbody tr th:only-of-type {\n",
       "        vertical-align: middle;\n",
       "    }\n",
       "\n",
       "    .dataframe tbody tr th {\n",
       "        vertical-align: top;\n",
       "    }\n",
       "\n",
       "    .dataframe thead th {\n",
       "        text-align: right;\n",
       "    }\n",
       "</style>\n",
       "<table border=\"1\" class=\"dataframe\">\n",
       "  <thead>\n",
       "    <tr style=\"text-align: right;\">\n",
       "      <th></th>\n",
       "      <th>UserID</th>\n",
       "      <th>MovieID</th>\n",
       "      <th>rating</th>\n",
       "      <th>timestamp</th>\n",
       "    </tr>\n",
       "  </thead>\n",
       "  <tbody>\n",
       "    <tr>\n",
       "      <th>66567</th>\n",
       "      <td>1</td>\n",
       "      <td>55</td>\n",
       "      <td>5</td>\n",
       "      <td>875072688</td>\n",
       "    </tr>\n",
       "    <tr>\n",
       "      <th>62820</th>\n",
       "      <td>1</td>\n",
       "      <td>203</td>\n",
       "      <td>4</td>\n",
       "      <td>878542231</td>\n",
       "    </tr>\n",
       "    <tr>\n",
       "      <th>10207</th>\n",
       "      <td>1</td>\n",
       "      <td>183</td>\n",
       "      <td>5</td>\n",
       "      <td>875072262</td>\n",
       "    </tr>\n",
       "    <tr>\n",
       "      <th>9971</th>\n",
       "      <td>1</td>\n",
       "      <td>150</td>\n",
       "      <td>5</td>\n",
       "      <td>876892196</td>\n",
       "    </tr>\n",
       "    <tr>\n",
       "      <th>22496</th>\n",
       "      <td>1</td>\n",
       "      <td>68</td>\n",
       "      <td>4</td>\n",
       "      <td>875072688</td>\n",
       "    </tr>\n",
       "  </tbody>\n",
       "</table>\n",
       "</div>"
      ],
      "text/plain": [
       "       UserID  MovieID  rating  timestamp\n",
       "66567       1       55       5  875072688\n",
       "62820       1      203       4  878542231\n",
       "10207       1      183       5  875072262\n",
       "9971        1      150       5  876892196\n",
       "22496       1       68       4  875072688"
      ]
     },
     "execution_count": 7,
     "metadata": {},
     "output_type": "execute_result"
    }
   ],
   "source": [
    "df.head()"
   ]
  },
  {
   "cell_type": "code",
   "execution_count": 8,
   "metadata": {},
   "outputs": [],
   "source": [
    "df = df.drop([\"timestamp\"],axis=1)"
   ]
  },
  {
   "cell_type": "code",
   "execution_count": 9,
   "metadata": {},
   "outputs": [
    {
     "data": {
      "text/html": [
       "<div>\n",
       "<style scoped>\n",
       "    .dataframe tbody tr th:only-of-type {\n",
       "        vertical-align: middle;\n",
       "    }\n",
       "\n",
       "    .dataframe tbody tr th {\n",
       "        vertical-align: top;\n",
       "    }\n",
       "\n",
       "    .dataframe thead th {\n",
       "        text-align: right;\n",
       "    }\n",
       "</style>\n",
       "<table border=\"1\" class=\"dataframe\">\n",
       "  <thead>\n",
       "    <tr style=\"text-align: right;\">\n",
       "      <th></th>\n",
       "      <th>UserID</th>\n",
       "      <th>MovieID</th>\n",
       "      <th>rating</th>\n",
       "    </tr>\n",
       "  </thead>\n",
       "  <tbody>\n",
       "    <tr>\n",
       "      <th>66567</th>\n",
       "      <td>1</td>\n",
       "      <td>55</td>\n",
       "      <td>5</td>\n",
       "    </tr>\n",
       "    <tr>\n",
       "      <th>62820</th>\n",
       "      <td>1</td>\n",
       "      <td>203</td>\n",
       "      <td>4</td>\n",
       "    </tr>\n",
       "    <tr>\n",
       "      <th>10207</th>\n",
       "      <td>1</td>\n",
       "      <td>183</td>\n",
       "      <td>5</td>\n",
       "    </tr>\n",
       "    <tr>\n",
       "      <th>9971</th>\n",
       "      <td>1</td>\n",
       "      <td>150</td>\n",
       "      <td>5</td>\n",
       "    </tr>\n",
       "    <tr>\n",
       "      <th>22496</th>\n",
       "      <td>1</td>\n",
       "      <td>68</td>\n",
       "      <td>4</td>\n",
       "    </tr>\n",
       "  </tbody>\n",
       "</table>\n",
       "</div>"
      ],
      "text/plain": [
       "       UserID  MovieID  rating\n",
       "66567       1       55       5\n",
       "62820       1      203       4\n",
       "10207       1      183       5\n",
       "9971        1      150       5\n",
       "22496       1       68       4"
      ]
     },
     "execution_count": 9,
     "metadata": {},
     "output_type": "execute_result"
    }
   ],
   "source": [
    "df.head()"
   ]
  },
  {
   "cell_type": "markdown",
   "metadata": {},
   "source": [
    "#### Creating dictionary grouping all users.\n",
    "#### That it is a dictionary where keys are the users.\n",
    "#### For it user it is another dictionary where keys are the movies and values are the rating.\n",
    "\n",
    "#### Giving it name prefs which stands for preference"
   ]
  },
  {
   "cell_type": "code",
   "execution_count": 10,
   "metadata": {},
   "outputs": [],
   "source": [
    "prefs={}\n",
    "for index,row in df.iterrows():\n",
    "    uid=row['UserID']\n",
    "    mid=row['MovieID']\n",
    "    rating=row['rating']\n",
    "    prefs.setdefault(uid,{})\n",
    "    prefs[uid][mid]=rating"
   ]
  },
  {
   "cell_type": "markdown",
   "metadata": {},
   "source": [
    "# Creating recomendation system"
   ]
  },
  {
   "cell_type": "markdown",
   "metadata": {},
   "source": [
    "#### Creating function sim_pearson which takes two input as user and prefs and gives the Pearson Correlation distance between them"
   ]
  },
  {
   "cell_type": "code",
   "execution_count": 11,
   "metadata": {},
   "outputs": [],
   "source": [
    "def sim_pearson(dicti,p1,p2):\n",
    "     sim_item={}\n",
    "     for item in dicti[p1]:\n",
    "         if item in dicti[p2]: \n",
    "            sim_item[item]=1\n",
    "\n",
    "     n=len(sim_item)\n",
    "     if n==0: \n",
    "         return 0\n",
    "\n",
    "     sum_1=sum([dicti[p1][it] for it in sim_item])\n",
    "     sum_2=sum([dicti[p2][it] for it in sim_item])\n",
    "\n",
    "     sum1Sq=sum([pow(dicti[p1][it],2) for it in sim_item])\n",
    "     sum2Sq=sum([pow(dicti[p2][it],2) for it in sim_item])\n",
    "\n",
    "     pSum=sum([dicti[p1][it]*dicti[p2][it] for it in sim_item])\n",
    "\n",
    "     num=pSum-(sum_1*sum_2/n)\n",
    "     den=math.sqrt((sum1Sq-pow(sum_1,2)/n)*(sum2Sq-pow(sum_2,2)/n))\n",
    "     if den==0: \n",
    "        return 0\n",
    "     r=num/den\n",
    "     return r"
   ]
  },
  {
   "cell_type": "markdown",
   "metadata": {},
   "source": [
    "#### Example of peasson correlation between movie rating of user 1 and 34"
   ]
  },
  {
   "cell_type": "code",
   "execution_count": 12,
   "metadata": {},
   "outputs": [
    {
     "data": {
      "text/plain": [
       "0.891042111213631"
      ]
     },
     "execution_count": 12,
     "metadata": {},
     "output_type": "execute_result"
    }
   ],
   "source": [
    "sim_pearson(prefs,1,34)"
   ]
  },
  {
   "cell_type": "markdown",
   "metadata": {},
   "source": [
    "### Creating a dictionary that maps MovieID to Movie Name"
   ]
  },
  {
   "cell_type": "code",
   "execution_count": 13,
   "metadata": {},
   "outputs": [],
   "source": [
    "movie_data = pd.read_csv(\"http://files.grouplens.org/datasets/movielens/ml-100k/u.item\",encoding='latin-1',delimiter='|',header=None)\n",
    "movie_data = pd.DataFrame(movie_data)\n",
    "movie_dict={}\n",
    "for index,row in movie_data.iterrows():\n",
    "    movie_id=row[0]\n",
    "    movie_name=row[1]\n",
    "    movie_dict.setdefault(movie_id,\"\")\n",
    "    movie_dict[movie_id]=movie_name"
   ]
  },
  {
   "cell_type": "code",
   "execution_count": 14,
   "metadata": {},
   "outputs": [
    {
     "name": "stdout",
     "output_type": "stream",
     "text": [
      "Toy Story (1995)\n",
      "GoldenEye (1995)\n",
      "Four Rooms (1995)\n",
      "Get Shorty (1995)\n",
      "Copycat (1995)\n"
     ]
    }
   ],
   "source": [
    "for i in range(1,6):\n",
    "    print(movie_dict[i])"
   ]
  },
  {
   "cell_type": "markdown",
   "metadata": {},
   "source": [
    "### Creating recommendations for users based on other users who are close (Correlation is more than 0.7) to them and average rating is high ( Rating is more than 3.5 / 5 ) "
   ]
  },
  {
   "cell_type": "code",
   "execution_count": 15,
   "metadata": {},
   "outputs": [],
   "source": [
    "def getRecommendations(person,pdict = prefs,similarity = sim_pearson,mdict = movie_dict):\n",
    "    totals={}\n",
    "    simSums={}\n",
    "    for other in pdict:\n",
    "        if other==person: \n",
    "            continue\n",
    "        sim=similarity(pdict,person,other)\n",
    "        if sim <= 0.7: \n",
    "            continue\n",
    "\n",
    "        for item in pdict[other]:\n",
    "            if item not in pdict[person] or pdict[person][item]==0:\n",
    "                 totals.setdefault(item,0)\n",
    "                 totals[item] += pdict[other][item]*sim\n",
    "                 simSums.setdefault(item,0)\n",
    "                 simSums[item]+=sim\n",
    "\n",
    "\n",
    "    rankings=[(total/simSums[item],mdict[item]) for item,total in totals.items( )]\n",
    "    rankings.sort(reverse=True)\n",
    "    \n",
    "    recomended = []\n",
    "    \n",
    "    for rating, movie in rankings:\n",
    "        if rating >= 3.5:\n",
    "            recomended.append(movie)\n",
    "    return(recomended)"
   ]
  },
  {
   "cell_type": "markdown",
   "metadata": {},
   "source": [
    "#### Recomendation for user 1"
   ]
  },
  {
   "cell_type": "code",
   "execution_count": 16,
   "metadata": {},
   "outputs": [
    {
     "data": {
      "text/plain": [
       "['Postman, The (1997)',\n",
       " 'Desperate Measures (1998)',\n",
       " 'Women, The (1939)',\n",
       " 'Winter Guest, The (1997)',\n",
       " \"Ulee's Gold (1997)\",\n",
       " \"She's the One (1996)\",\n",
       " 'Shadow Conspiracy (1997)',\n",
       " 'Seventh Seal, The (Sjunde inseglet, Det) (1957)',\n",
       " \"Schindler's List (1993)\",\n",
       " 'Rear Window (1954)',\n",
       " 'Philadelphia (1993)',\n",
       " 'Matilda (1996)',\n",
       " 'Kids (1995)',\n",
       " 'Incognito (1997)',\n",
       " 'Heathers (1989)',\n",
       " 'Great Dictator, The (1940)',\n",
       " 'Gabbeh (1996)',\n",
       " 'French Kiss (1995)',\n",
       " 'Boot, Das (1981)',\n",
       " 'Big Lebowski, The (1998)',\n",
       " 'American President, The (1995)',\n",
       " 'Sense and Sensibility (1995)',\n",
       " 'Indian Summer (1996)',\n",
       " 'That Thing You Do! (1996)',\n",
       " 'Thousand Acres, A (1997)',\n",
       " 'Titanic (1997)',\n",
       " \"It's a Wonderful Life (1946)\",\n",
       " 'It Happened One Night (1934)',\n",
       " 'L.A. Confidential (1997)',\n",
       " 'Rainmaker, The (1997)',\n",
       " 'Mrs. Dalloway (1997)',\n",
       " 'Deceiver (1997)',\n",
       " 'Wedding Singer, The (1998)',\n",
       " 'That Darn Cat! (1997)',\n",
       " 'Switchback (1997)',\n",
       " 'Star Trek: Generations (1994)',\n",
       " 'Sleepers (1996)',\n",
       " 'Sixth Man, The (1997)',\n",
       " 'Senseless (1998)',\n",
       " 'Secrets & Lies (1996)',\n",
       " 'Promesse, La (1996)',\n",
       " 'Philadelphia Story, The (1940)',\n",
       " 'One Night Stand (1997)',\n",
       " \"One Flew Over the Cuckoo's Nest (1975)\",\n",
       " 'One Fine Day (1996)',\n",
       " 'Mr. Magoo (1997)',\n",
       " 'Month by the Lake, A (1995)',\n",
       " 'Mission: Impossible (1996)',\n",
       " 'MatchMaker, The (1997)',\n",
       " 'Manchurian Candidate, The (1962)',\n",
       " 'Maltese Falcon, The (1941)',\n",
       " 'Like Water For Chocolate (Como agua para chocolate) (1992)',\n",
       " 'Life Less Ordinary, A (1997)',\n",
       " 'Leading Man, The (1996)',\n",
       " 'Keys to Tulsa (1997)',\n",
       " 'Kama Sutra: A Tale of Love (1996)',\n",
       " 'Horse Whisperer, The (1998)',\n",
       " 'Hercules (1997)',\n",
       " 'Great Expectations (1998)',\n",
       " 'First Wives Club, The (1996)',\n",
       " 'Firestorm (1998)',\n",
       " 'FairyTale: A True Story (1997)',\n",
       " 'Extreme Measures (1996)',\n",
       " 'Donnie Brasco (1997)',\n",
       " 'Crying Game, The (1992)',\n",
       " 'Cry, the Beloved Country (1995)',\n",
       " 'Critical Care (1997)',\n",
       " 'Courage Under Fire (1996)',\n",
       " 'Con Air (1997)',\n",
       " 'Celluloid Closet, The (1995)',\n",
       " \"Cats Don't Dance (1997)\",\n",
       " 'Breakdown (1997)',\n",
       " 'Brassed Off (1996)',\n",
       " 'Absolute Power (1997)',\n",
       " 'Rosewood (1997)',\n",
       " 'Emma (1996)',\n",
       " 'As Good As It Gets (1997)',\n",
       " \"Ulee's Gold (1997)\",\n",
       " 'Anastasia (1997)',\n",
       " 'Apt Pupil (1998)',\n",
       " 'Anna Karenina (1997)',\n",
       " 'Fire Down Below (1997)',\n",
       " 'Seven Years in Tibet (1997)',\n",
       " 'Kiss the Girls (1997)',\n",
       " \"Eve's Bayou (1997)\",\n",
       " 'Wag the Dog (1997)',\n",
       " 'Mrs. Brown (Her Majesty, Mrs. Brown) (1997)',\n",
       " 'Wings of the Dove, The (1997)',\n",
       " 'I Know What You Did Last Summer (1997)',\n",
       " 'Man Who Knew Too Little, The (1997)',\n",
       " 'Game, The (1997)',\n",
       " 'Red Corner (1997)',\n",
       " 'Air Force One (1997)',\n",
       " 'Ice Storm, The (1997)',\n",
       " 'G.I. Jane (1997)',\n",
       " 'People vs. Larry Flynt, The (1996)',\n",
       " 'Fly Away Home (1996)',\n",
       " \"Dante's Peak (1997)\",\n",
       " 'Conspiracy Theory (1997)',\n",
       " 'Tomorrow Never Dies (1997)',\n",
       " 'English Patient, The (1996)',\n",
       " 'Scream 2 (1997)',\n",
       " 'Assignment, The (1997)',\n",
       " 'Leaving Las Vegas (1995)',\n",
       " 'Time to Kill, A (1996)',\n",
       " 'Career Girls (1997)',\n",
       " 'Mouse Hunt (1997)']"
      ]
     },
     "execution_count": 16,
     "metadata": {},
     "output_type": "execute_result"
    }
   ],
   "source": [
    "getRecommendations(1)"
   ]
  },
  {
   "cell_type": "code",
   "execution_count": null,
   "metadata": {},
   "outputs": [],
   "source": []
  },
  {
   "cell_type": "code",
   "execution_count": null,
   "metadata": {},
   "outputs": [],
   "source": []
  }
 ],
 "metadata": {
  "kernelspec": {
   "display_name": "Python 3",
   "language": "python",
   "name": "python3"
  },
  "language_info": {
   "codemirror_mode": {
    "name": "ipython",
    "version": 3
   },
   "file_extension": ".py",
   "mimetype": "text/x-python",
   "name": "python",
   "nbconvert_exporter": "python",
   "pygments_lexer": "ipython3",
   "version": "3.7.1"
  }
 },
 "nbformat": 4,
 "nbformat_minor": 2
}
